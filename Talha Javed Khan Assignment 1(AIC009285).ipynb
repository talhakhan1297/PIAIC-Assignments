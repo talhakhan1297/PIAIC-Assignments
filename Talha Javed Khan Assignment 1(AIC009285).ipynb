{
 "cells": [
  {
   "cell_type": "markdown",
   "metadata": {},
   "source": [
    "# ASSIGNMENT "
   ]
  },
  {
   "cell_type": "markdown",
   "metadata": {},
   "source": [
    "<h3> 1 : Declare and initialize a variable name total_marks with a value 500</h3>\n"
   ]
  },
  {
   "cell_type": "code",
   "execution_count": 7,
   "metadata": {},
   "outputs": [],
   "source": [
    "total_marks = 500"
   ]
  },
  {
   "cell_type": "markdown",
   "metadata": {},
   "source": [
    "<h3> 2 : Declare and initialize 5 variables name maths , english , urdu , physics and chemisrty with different integer values</h3>"
   ]
  },
  {
   "cell_type": "code",
   "execution_count": 8,
   "metadata": {},
   "outputs": [],
   "source": [
    "maths = 95\n",
    "english = 78\n",
    "urdu = 73\n",
    "physics = 85\n",
    "chemistry = 80"
   ]
  },
  {
   "cell_type": "markdown",
   "metadata": {},
   "source": [
    "<h3>3 : Calculate the obtained marks And assign the value In variable name obtained_marks</h3>"
   ]
  },
  {
   "cell_type": "code",
   "execution_count": 9,
   "metadata": {},
   "outputs": [],
   "source": [
    "obtained_marks = maths + english + urdu + physics + chemistry"
   ]
  },
  {
   "cell_type": "markdown",
   "metadata": {},
   "source": [
    "<h3>4 : Calculate percentage and assign the value in variable name percentage</h3>"
   ]
  },
  {
   "cell_type": "code",
   "execution_count": 10,
   "metadata": {},
   "outputs": [],
   "source": [
    "percentage = (obtained_marks / total_marks) * 100"
   ]
  },
  {
   "cell_type": "markdown",
   "metadata": {},
   "source": [
    "<h3>5 : Declare and initialize an empty variable name grade </h3>"
   ]
  },
  {
   "cell_type": "code",
   "execution_count": 11,
   "metadata": {},
   "outputs": [],
   "source": [
    "grade = None"
   ]
  },
  {
   "cell_type": "markdown",
   "metadata": {},
   "source": [
    "<h3>6 : print your biodata </h3> "
   ]
  },
  {
   "cell_type": "code",
   "execution_count": 20,
   "metadata": {},
   "outputs": [
    {
     "name": "stdout",
     "output_type": "stream",
     "text": [
      "Name: Talha Javed Khan\t\tRoll no: AIC009285\n",
      "\t\tSubjects\tObtained Marks\n",
      "\t\tMaths\t\t 95\n",
      "\t\tEnglish\t\t 78\n",
      "\t\tUrdu\t\t 73\n",
      "\t\tPhysics\t\t 85\n",
      "\t\tChemistry\t 80\n",
      "\n",
      "Total Marks:  500 \tObtained Marks:  411 \tPercentage:  82.19999999999999  %\n"
     ]
    }
   ],
   "source": [
    "print(\"Name: Talha Javed Khan\\t\\tRoll no: AIC009285\")\n",
    "print(\"\\t\\tSubjects\\tObtained Marks\")\n",
    "print(\"\\t\\tMaths\\t\\t\", maths)\n",
    "print(\"\\t\\tEnglish\\t\\t\", english)\n",
    "print(\"\\t\\tUrdu\\t\\t\", urdu)\n",
    "print(\"\\t\\tPhysics\\t\\t\", physics)\n",
    "print(\"\\t\\tChemistry\\t\", chemistry)\n",
    "print(\"\\nTotal Marks: \", total_marks, \"\\tObtained Marks: \", obtained_marks, \"\\tPercentage: \", percentage, \" %\")"
   ]
  },
  {
   "cell_type": "raw",
   "metadata": {},
   "source": []
  },
  {
   "cell_type": "code",
   "execution_count": null,
   "metadata": {},
   "outputs": [],
   "source": []
  }
 ],
 "metadata": {
  "kernelspec": {
   "display_name": "Python 3",
   "language": "python",
   "name": "python3"
  },
  "language_info": {
   "codemirror_mode": {
    "name": "ipython",
    "version": 3
   },
   "file_extension": ".py",
   "mimetype": "text/x-python",
   "name": "python",
   "nbconvert_exporter": "python",
   "pygments_lexer": "ipython3",
   "version": "3.7.3"
  }
 },
 "nbformat": 4,
 "nbformat_minor": 2
}

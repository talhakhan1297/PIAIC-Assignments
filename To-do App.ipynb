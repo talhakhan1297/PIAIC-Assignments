{
 "cells": [
  {
   "cell_type": "code",
   "execution_count": 18,
   "metadata": {},
   "outputs": [
    {
     "name": "stdout",
     "output_type": "stream",
     "text": [
      "\t\t----------------------\n",
      "\t\t       Todo List\n",
      "\t\t----------------------\n",
      "1. Enter items.\n",
      "2. Delete items.\n",
      "3. Clear items.\n",
      "4.Exit Application\n",
      "\n",
      "1\n",
      "Type Y to add items and N to exit.y\n",
      "Enter your items: talha\n",
      "Enter your items: abdullah\n",
      "Enter your items: huzaifah\n",
      "Enter your items: azeem\n",
      "Enter your items: n\n",
      "Your to-do list:  ['talha', 'abdullah', 'huzaifah', 'azeem']\n",
      "1. Enter items.\n",
      "2. Delete items.\n",
      "3. Clear items.\n",
      "4.Exit Application\n",
      "\n",
      "2\n",
      "Type Y to remove items and N to exit.y\n",
      "Enter value to remove: huzaifah\n",
      "Enter value to remove: azeem\n",
      "Enter value to remove: n\n",
      "Your to-do list:  ['talha', 'abdullah']\n",
      "1. Enter items.\n",
      "2. Delete items.\n",
      "3. Clear items.\n",
      "4.Exit Application\n",
      "\n",
      "3\n",
      "Type Y to clear list and N to exit.y\n",
      "Your to-do list is empty:  []\n",
      "1. Enter items.\n",
      "2. Delete items.\n",
      "3. Clear items.\n",
      "4.Exit Application\n",
      "\n",
      "4\n"
     ]
    }
   ],
   "source": [
    "print(\"\\t\\t----------------------\\n\\t\\t       Todo List\\n\\t\\t----------------------\")\n",
    "todo = [];\n",
    "\n",
    "while True:\n",
    "    menu = input(\"1. Enter items.\\n2. Delete items.\\n3. Clear items.\\n4.Exit Application\\n\\n\")\n",
    "    while menu == '1':\n",
    "        menu1 = input(\"Type Y to add items and N to exit.\")\n",
    "        while menu1.lower() == 'y':\n",
    "            enterData = input(\"Enter your items: \")\n",
    "            if enterData == \"n\":\n",
    "                break\n",
    "            todo.append(enterData)    \n",
    "        print(\"Your to-do list: \",todo)\n",
    "        break\n",
    "    \n",
    "    while menu == '2':\n",
    "        menu2 = input(\"Type Y to remove items and N to exit.\")\n",
    "        while menu2.lower() == 'y':\n",
    "            removeData = input(\"Enter value to remove: \")\n",
    "            if removeData == \"n\":\n",
    "                break\n",
    "            todo.remove(removeData)\n",
    "        print(\"Your to-do list: \",todo)\n",
    "        break\n",
    "    \n",
    "    if menu == '3':\n",
    "        menu3 = input(\"Type Y to clear list and N to exit.\")\n",
    "        if menu3.lower() == 'y':\n",
    "            todo.clear()\n",
    "            print(\"Your to-do list is empty: \",todo)\n",
    "        \n",
    "    if menu == '4':\n",
    "        break"
   ]
  },
  {
   "cell_type": "code",
   "execution_count": null,
   "metadata": {},
   "outputs": [],
   "source": []
  },
  {
   "cell_type": "code",
   "execution_count": null,
   "metadata": {},
   "outputs": [],
   "source": []
  },
  {
   "cell_type": "code",
   "execution_count": null,
   "metadata": {},
   "outputs": [],
   "source": []
  }
 ],
 "metadata": {
  "kernelspec": {
   "display_name": "Python 3",
   "language": "python",
   "name": "python3"
  },
  "language_info": {
   "codemirror_mode": {
    "name": "ipython",
    "version": 3
   },
   "file_extension": ".py",
   "mimetype": "text/x-python",
   "name": "python",
   "nbconvert_exporter": "python",
   "pygments_lexer": "ipython3",
   "version": "3.7.3"
  }
 },
 "nbformat": 4,
 "nbformat_minor": 2
}

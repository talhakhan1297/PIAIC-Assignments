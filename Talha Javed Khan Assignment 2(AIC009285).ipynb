{
 "cells": [
  {
   "cell_type": "markdown",
   "metadata": {},
   "source": [
    "# The ABC company has hired you as an intern on the coding team that creates e-commerce applications.  \n",
    "You must write a script that asks the user for a value. The value must be used as a whole number in a calculation, even if the user enters a decimal value. \n",
    "\n",
    "You need to write the code to meet the requirements."
   ]
  },
  {
   "cell_type": "code",
   "execution_count": 10,
   "metadata": {},
   "outputs": [
    {
     "name": "stdout",
     "output_type": "stream",
     "text": [
      "Enter a value: 5.5\n"
     ]
    }
   ],
   "source": [
    "value = float(input(\"Enter a value: \"))"
   ]
  },
  {
   "cell_type": "code",
   "execution_count": 13,
   "metadata": {},
   "outputs": [
    {
     "name": "stdout",
     "output_type": "stream",
     "text": [
      "5\n"
     ]
    }
   ],
   "source": [
    "print(int(value))"
   ]
  },
  {
   "cell_type": "markdown",
   "metadata": {},
   "source": [
    "# You are creating a Python program that shows a congratulation message to employees on their service anniversary.\n",
    "You need to calculate the number of years of service and print a congratulatory message."
   ]
  },
  {
   "cell_type": "code",
   "execution_count": 17,
   "metadata": {},
   "outputs": [
    {
     "name": "stdout",
     "output_type": "stream",
     "text": [
      "When did you started your service? 1997\n",
      "Current year: 2019\n"
     ]
    }
   ],
   "source": [
    "joined = int(input(\"When did you started your service? \"))\n",
    "current = int(input(\"Current year: \"))"
   ]
  },
  {
   "cell_type": "code",
   "execution_count": 20,
   "metadata": {},
   "outputs": [],
   "source": [
    "years = current - joined "
   ]
  },
  {
   "cell_type": "code",
   "execution_count": 22,
   "metadata": {},
   "outputs": [
    {
     "name": "stdout",
     "output_type": "stream",
     "text": [
      "Congratulations on your  22  anniversary\n"
     ]
    }
   ],
   "source": [
    "print(\"Congratulations on your \" , years , \" anniversary\")"
   ]
  },
  {
   "cell_type": "markdown",
   "metadata": {},
   "source": [
    "# Write a Python program to convert temperatures  from fahrenheit to celsius, \n",
    "#step 1: take \"fahrenheit Temperature\" from user in integer data type\n",
    "#step 2: apply formula that is       (  C = (5/9) * (fahrenheit_temperature - 32)  )\n",
    "#step 3: print step 2. "
   ]
  },
  {
   "cell_type": "code",
   "execution_count": 29,
   "metadata": {},
   "outputs": [
    {
     "name": "stdout",
     "output_type": "stream",
     "text": [
      "Enter temprature in fahrenheit: 102\n"
     ]
    }
   ],
   "source": [
    "fahrenheit = float(input(\"Enter temprature in fahrenheit: \"))"
   ]
  },
  {
   "cell_type": "code",
   "execution_count": 30,
   "metadata": {},
   "outputs": [],
   "source": [
    "c = (5 / 9) * (fahrenheit - 32)"
   ]
  },
  {
   "cell_type": "code",
   "execution_count": 31,
   "metadata": {},
   "outputs": [
    {
     "name": "stdout",
     "output_type": "stream",
     "text": [
      "38.88888888888889\n"
     ]
    }
   ],
   "source": [
    "print(c)"
   ]
  },
  {
   "cell_type": "markdown",
   "metadata": {},
   "source": [
    "<h3>assign a vlue to grade by checking the following conditions:: </h3>\n",
    "<h3>if % is greater then and equal to 90 and less then 100 grade is A+ </h3>\n",
    "<h3>if % is greater then and equal to 80 and less then 90 grade is A </h3>\n",
    "<h3>if % is greater then and equal to 70 and less then 80 grade is B </h3>\n",
    "<h3>if % is greater then and equal to 60 and less then 70 grade is C </h3>\n",
    "<h3>if % is less than 60 grade is FAIL </h3>\n"
   ]
  },
  {
   "cell_type": "code",
   "execution_count": 32,
   "metadata": {},
   "outputs": [
    {
     "name": "stdout",
     "output_type": "stream",
     "text": [
      "Enter your percentage: 55\n"
     ]
    }
   ],
   "source": [
    "percentage = float(input(\"Enter your percentage: \"))"
   ]
  },
  {
   "cell_type": "code",
   "execution_count": 34,
   "metadata": {},
   "outputs": [
    {
     "name": "stdout",
     "output_type": "stream",
     "text": [
      "FAIL\n"
     ]
    }
   ],
   "source": [
    "if percentage >= 90 and percentage <= 100:\n",
    "    print(\"A+\")\n",
    "elif percentage >= 80 and percentage < 90:\n",
    "    print(\"A\")\n",
    "elif percentage >= 70 and percentage < 80:\n",
    "    print(\"B\")\n",
    "elif percentage >= 60 and percentage < 70:\n",
    "    print(\"C\")\n",
    "elif percentage >= 0 and percentage < 60:\n",
    "    print(\"FAIL\")\n",
    "else:\n",
    "    print(\"INVALID number\")"
   ]
  },
  {
   "cell_type": "code",
   "execution_count": null,
   "metadata": {},
   "outputs": [],
   "source": []
  },
  {
   "cell_type": "markdown",
   "metadata": {},
   "source": [
    "<h3>Print grade percentage and obtained marks</h3>"
   ]
  },
  {
   "cell_type": "code",
   "execution_count": 38,
   "metadata": {},
   "outputs": [
    {
     "name": "stdout",
     "output_type": "stream",
     "text": [
      "Enter Obtained Marks: 50\n",
      "Enter Total Marks: 100\n",
      "Obtained Marks:  50.0  Percentage:  50.0  Grade: FAIL\n"
     ]
    }
   ],
   "source": [
    "obtained_marks = float(input(\"Enter Obtained Marks: \"))\n",
    "total_marks = float(input(\"Enter Total Marks: \"))\n",
    "percentage = (obtained_marks / total_marks) * 100\n",
    "\n",
    "if percentage >= 90 and percentage <= 100:\n",
    "    print(\"Obtained Marks: \",obtained_marks, \" Percentage: \",percentage, \" Grade: A+\")\n",
    "elif percentage >= 80 and percentage < 90:\n",
    "    print(\"Obtained Marks: \",obtained_marks, \" Percentage: \",percentage, \" Grade: A\")\n",
    "elif percentage >= 70 and percentage < 80:\n",
    "    print(\"Obtained Marks: \",obtained_marks, \" Percentage: \",percentage, \" Grade: B\")\n",
    "elif percentage >= 60 and percentage < 70:\n",
    "    print(\"Obtained Marks: \",obtained_marks, \" Percentage: \",percentage, \" Grade: C\")\n",
    "elif percentage >= 0 and percentage < 60:\n",
    "    print(\"Obtained Marks: \",obtained_marks, \" Percentage: \",percentage, \" Grade: FAIL\")\n",
    "else:\n",
    "    print(\"INVALID number\")\n"
   ]
  },
  {
   "cell_type": "code",
   "execution_count": null,
   "metadata": {},
   "outputs": [],
   "source": []
  }
 ],
 "metadata": {
  "kernelspec": {
   "display_name": "Python 3",
   "language": "python",
   "name": "python3"
  },
  "language_info": {
   "codemirror_mode": {
    "name": "ipython",
    "version": 3
   },
   "file_extension": ".py",
   "mimetype": "text/x-python",
   "name": "python",
   "nbconvert_exporter": "python",
   "pygments_lexer": "ipython3",
   "version": "3.7.3"
  }
 },
 "nbformat": 4,
 "nbformat_minor": 2
}
